{
    "nbformat_minor": 1, 
    "cells": [
        {
            "source": "# Capstone Week 3 Peer Graded Assignment", 
            "cell_type": "markdown", 
            "metadata": {
                "collapsed": true
            }
        }, 
        {
            "source": "            Segmenting and Clustering Neighborhoods in Toronto", 
            "cell_type": "markdown", 
            "metadata": {}
        }, 
        {
            "execution_count": 181, 
            "cell_type": "code", 
            "metadata": {}, 
            "outputs": [
                {
                    "output_type": "stream", 
                    "name": "stdout", 
                    "text": "Libraries imported.\n"
                }
            ], 
            "source": "# import libraries \nimport pandas as pd\nimport numpy as np\n#pd.set_option('display.max_columns', None)\n#pd.set_option('display.max_rows', None)\n\nfrom bs4 import BeautifulSoup\n\nimport requests # library to handle requests\n\n#!conda install -c conda-forge geopy --yes # uncomment this line if you haven't completed the Foursquare API lab\n#from geopy.geocoders import Nominatim # convert an address into latitude and longitude values\n\nprint('Libraries imported.')"
        }, 
        {
            "source": "-All the magic is done with beautifulsoup \n-First you read the FIRST table in the wiki page\n\n-you can find an example here : https://stackoverflow.com/questions/48372543/beautifulsoup-scraping-table-from-website-with-requests-for-pandas\n\nlink for reference\n video\n https://cognitiveclass.ai/blog/event/exploring-neighborhoods-using-clustering-and-foursquare/?instance_id=242\n \n https://www.youtube.com/watch?v=ng2o98k983k", 
            "cell_type": "markdown", 
            "metadata": {}
        }, 
        {
            "execution_count": 182, 
            "cell_type": "code", 
            "metadata": {}, 
            "outputs": [], 
            "source": "# use requests to get the link in html format \nurl = 'https://en.wikipedia.org/wiki/List_of_postal_codes_of_Canada:_M'\nres = requests.get(url)\n#res"
        }, 
        {
            "execution_count": 3, 
            "cell_type": "code", 
            "metadata": {}, 
            "outputs": [], 
            "source": "# use soup to start the scraping process\nsoup = BeautifulSoup(res.content,'lxml')\n#soup"
        }, 
        {
            "source": "-The data in the wiki page you need to scrape is enclosed in what is called an HTML table\n-begining by <table..> ending by </table>", 
            "cell_type": "markdown", 
            "metadata": {}
        }, 
        {
            "execution_count": 6, 
            "cell_type": "code", 
            "metadata": {}, 
            "outputs": [], 
            "source": "# find the data or table with all the information\ntable = soup.find_all('table')[0]\n#table"
        }, 
        {
            "execution_count": 94, 
            "cell_type": "code", 
            "metadata": {}, 
            "outputs": [
                {
                    "execution_count": 94, 
                    "metadata": {}, 
                    "data": {
                        "text/html": "<div>\n<style scoped>\n    .dataframe tbody tr th:only-of-type {\n        vertical-align: middle;\n    }\n\n    .dataframe tbody tr th {\n        vertical-align: top;\n    }\n\n    .dataframe thead th {\n        text-align: right;\n    }\n</style>\n<table border=\"1\" class=\"dataframe\">\n  <thead>\n    <tr style=\"text-align: right;\">\n      <th></th>\n      <th>0</th>\n      <th>1</th>\n      <th>2</th>\n      <th>3</th>\n      <th>4</th>\n      <th>5</th>\n      <th>6</th>\n      <th>7</th>\n      <th>8</th>\n    </tr>\n  </thead>\n  <tbody>\n    <tr>\n      <th>0</th>\n      <td>M1ANot assigned</td>\n      <td>M2ANot assigned</td>\n      <td>M3ANorth York(Parkwoods)</td>\n      <td>M4ANorth York(Victoria Village)</td>\n      <td>M5ADowntown Toronto(Regent Park / Harbourfront)</td>\n      <td>M6ANorth York(Lawrence Manor / Lawrence Heights)</td>\n      <td>M7AQueen's Park Ontario Provincial Government</td>\n      <td>M8ANot assigned</td>\n      <td>M9AEtobicoke(Islington Avenue)</td>\n    </tr>\n    <tr>\n      <th>1</th>\n      <td>M1BScarborough(Malvern / Rouge)</td>\n      <td>M2BNot assigned</td>\n      <td>M3BNorth York(Don Mills)North</td>\n      <td>M4BEast York(Parkview Hill / Woodbine Gardens)</td>\n      <td>M5BDowntown Toronto(Garden District, Ryerson)</td>\n      <td>M6BNorth York(Glencairn)</td>\n      <td>M7BNot assigned</td>\n      <td>M8BNot assigned</td>\n      <td>M9BEtobicoke(West Deane Park / Princess Garden...</td>\n    </tr>\n    <tr>\n      <th>2</th>\n      <td>M1CScarborough(Rouge Hill / Port Union / Highl...</td>\n      <td>M2CNot assigned</td>\n      <td>M3CNorth York(Don Mills)South(Flemingdon Park)</td>\n      <td>M4CEast York(Woodbine Heights)</td>\n      <td>M5CDowntown Toronto(St. James Town)</td>\n      <td>M6CYork(Humewood-Cedarvale)</td>\n      <td>M7CNot assigned</td>\n      <td>M8CNot assigned</td>\n      <td>M9CEtobicoke(Eringate / Bloordale Gardens / Ol...</td>\n    </tr>\n    <tr>\n      <th>3</th>\n      <td>M1EScarborough(Guildwood / Morningside / West ...</td>\n      <td>M2ENot assigned</td>\n      <td>M3ENot assigned</td>\n      <td>M4EEast Toronto(The Beaches)</td>\n      <td>M5EDowntown Toronto(Berczy Park)</td>\n      <td>M6EYork(Caledonia-Fairbanks)</td>\n      <td>M7ENot assigned</td>\n      <td>M8ENot assigned</td>\n      <td>M9ENot assigned</td>\n    </tr>\n    <tr>\n      <th>4</th>\n      <td>M1GScarborough(Woburn)</td>\n      <td>M2GNot assigned</td>\n      <td>M3GNot assigned</td>\n      <td>M4GEast York(Leaside)</td>\n      <td>M5GDowntown Toronto(Central Bay Street)</td>\n      <td>M6GDowntown Toronto(Christie)</td>\n      <td>M7GNot assigned</td>\n      <td>M8GNot assigned</td>\n      <td>M9GNot assigned</td>\n    </tr>\n  </tbody>\n</table>\n</div>", 
                        "text/plain": "                                                   0                1  \\\n0                                    M1ANot assigned  M2ANot assigned   \n1                    M1BScarborough(Malvern / Rouge)  M2BNot assigned   \n2  M1CScarborough(Rouge Hill / Port Union / Highl...  M2CNot assigned   \n3  M1EScarborough(Guildwood / Morningside / West ...  M2ENot assigned   \n4                             M1GScarborough(Woburn)  M2GNot assigned   \n\n                                                2  \\\n0                        M3ANorth York(Parkwoods)   \n1                   M3BNorth York(Don Mills)North   \n2  M3CNorth York(Don Mills)South(Flemingdon Park)   \n3                                 M3ENot assigned   \n4                                 M3GNot assigned   \n\n                                                3  \\\n0                 M4ANorth York(Victoria Village)   \n1  M4BEast York(Parkview Hill / Woodbine Gardens)   \n2                  M4CEast York(Woodbine Heights)   \n3                    M4EEast Toronto(The Beaches)   \n4                           M4GEast York(Leaside)   \n\n                                                 4  \\\n0  M5ADowntown Toronto(Regent Park / Harbourfront)   \n1    M5BDowntown Toronto(Garden District, Ryerson)   \n2              M5CDowntown Toronto(St. James Town)   \n3                 M5EDowntown Toronto(Berczy Park)   \n4          M5GDowntown Toronto(Central Bay Street)   \n\n                                                  5  \\\n0  M6ANorth York(Lawrence Manor / Lawrence Heights)   \n1                          M6BNorth York(Glencairn)   \n2                       M6CYork(Humewood-Cedarvale)   \n3                      M6EYork(Caledonia-Fairbanks)   \n4                     M6GDowntown Toronto(Christie)   \n\n                                               6                7  \\\n0  M7AQueen's Park Ontario Provincial Government  M8ANot assigned   \n1                                M7BNot assigned  M8BNot assigned   \n2                                M7CNot assigned  M8CNot assigned   \n3                                M7ENot assigned  M8ENot assigned   \n4                                M7GNot assigned  M8GNot assigned   \n\n                                                   8  \n0                     M9AEtobicoke(Islington Avenue)  \n1  M9BEtobicoke(West Deane Park / Princess Garden...  \n2  M9CEtobicoke(Eringate / Bloordale Gardens / Ol...  \n3                                    M9ENot assigned  \n4                                    M9GNot assigned  "
                    }, 
                    "output_type": "execute_result"
                }
            ], 
            "source": "# read the html table in pandas form \ndf = pd.read_html(str(table))[0]\ndf.head()"
        }, 
        {
            "source": "Once you've read the HTML table into a pandas dataframe, you'll see it's not exactly the structure you need in the assignment\n\n-but all the values are there!  \n\n-You'll see also that you're interested in the CELL contents.. each cell represents a line in your FINAL dataframe\n\n-the way I did it... through a functon called flatten()\n\n-mydataframe.values.flatten().tolist()\n\n-I'm interested in only the values, which I flatten (that means only ONE column), then I convert it into a list\n\n-this list contains now all the values I am interested in...", 
            "cell_type": "markdown", 
            "metadata": {}
        }, 
        {
            "execution_count": 113, 
            "cell_type": "code", 
            "metadata": {}, 
            "outputs": [], 
            "source": "list = df.values.flatten().tolist()\n#list"
        }, 
        {
            "execution_count": 74, 
            "cell_type": "code", 
            "metadata": {}, 
            "outputs": [
                {
                    "output_type": "stream", 
                    "name": "stdout", 
                    "text": "(20, 9)\n"
                }, 
                {
                    "execution_count": 74, 
                    "metadata": {}, 
                    "data": {
                        "text/plain": "pandas.core.frame.DataFrame"
                    }, 
                    "output_type": "execute_result"
                }
            ], 
            "source": "print(df.shape)\ntype(df)"
        }, 
        {
            "source": "-Now begins the parsing (or wrangling..)\n\n-NEXT STEP : delete all the \"Not assigned\" lines\n\n-I build a new list from the one I already have.. by excluding the values containing the term 'Not assigned'\n\n-something like :\n-newlist = [  s for s in oldlist if \"Not assigned\" not in s]\n\n-now newlist contains strings of the sort :\n-M3ANorth York(Parkwoods)\n\n-clearly : the first 3 characters are the PostalCode, the string from index 3 all the way to first (, is the Borough column\n\n-and the substring inside the (...) is the neighborhood\n\n-I'll let you do these steps... if you have a difficulty with the last steps, I'll give another hint", 
            "cell_type": "markdown", 
            "metadata": {}
        }, 
        {
            "execution_count": 186, 
            "cell_type": "code", 
            "metadata": {}, 
            "outputs": [
                {
                    "execution_count": 186, 
                    "metadata": {}, 
                    "data": {
                        "text/plain": "['M3ANorth York(Parkwoods)',\n 'M4ANorth York(Victoria Village)',\n 'M5ADowntown Toronto(Regent Park / Harbourfront)',\n 'M6ANorth York(Lawrence Manor / Lawrence Heights)',\n \"M7AQueen's Park Ontario Provincial Government\",\n 'M9AEtobicoke(Islington Avenue)',\n 'M1BScarborough(Malvern / Rouge)',\n 'M3BNorth York(Don Mills)North',\n 'M4BEast York(Parkview Hill / Woodbine Gardens)',\n 'M5BDowntown Toronto(Garden District, Ryerson)',\n 'M6BNorth York(Glencairn)',\n 'M9BEtobicoke(West Deane Park / Princess Gardens / Martin Grove / Islington / Cloverdale)',\n 'M1CScarborough(Rouge Hill / Port Union / Highland Creek)',\n 'M3CNorth York(Don Mills)South(Flemingdon Park)',\n 'M4CEast York(Woodbine Heights)',\n 'M5CDowntown Toronto(St. James Town)',\n 'M6CYork(Humewood-Cedarvale)',\n 'M9CEtobicoke(Eringate / Bloordale Gardens / Old Burnhamthorpe / Markland Wood)',\n 'M1EScarborough(Guildwood / Morningside / West Hill)',\n 'M4EEast Toronto(The Beaches)',\n 'M5EDowntown Toronto(Berczy Park)',\n 'M6EYork(Caledonia-Fairbanks)',\n 'M1GScarborough(Woburn)',\n 'M4GEast York(Leaside)',\n 'M5GDowntown Toronto(Central Bay Street)',\n 'M6GDowntown Toronto(Christie)',\n 'M1HScarborough(Cedarbrae)',\n 'M2HNorth York(Hillcrest Village)',\n 'M3HNorth York(Bathurst Manor / Wilson Heights / Downsview North)',\n 'M4HEast York(Thorncliffe Park)',\n 'M5HDowntown Toronto(Richmond / Adelaide / King)',\n 'M6HWest Toronto(Dufferin / Dovercourt Village)',\n 'M1JScarborough(Scarborough Village)',\n 'M2JNorth York(Fairview / Henry Farm / Oriole)',\n 'M3JNorth York(Northwood Park / York University)',\n 'M4JEast YorkEast Toronto(The Danforth East)',\n 'M5JDowntown Toronto(Harbourfront East / Union Station / Toronto Islands)',\n 'M6JWest Toronto(Little Portugal / Trinity)',\n 'M1KScarborough(Kennedy Park / Ionview / East Birchmount Park)',\n 'M2KNorth York(Bayview Village)',\n 'M3KNorth York(Downsview)East (CFB Toronto)',\n 'M4KEast Toronto(The Danforth West / Riverdale)',\n 'M5KDowntown Toronto(Toronto Dominion Centre / Design Exchange)',\n 'M6KWest Toronto(Brockton / Parkdale Village / Exhibition Place)',\n 'M1LScarborough(Golden Mile / Clairlea / Oakridge)',\n 'M2LNorth York(York Mills / Silver Hills)',\n 'M3LNorth York(Downsview)West',\n 'M4LEast Toronto(India Bazaar / The Beaches West)',\n 'M5LDowntown Toronto(Commerce Court / Victoria Hotel)',\n 'M6LNorth York(North Park / Maple Leaf Park / Upwood Park)',\n 'M9LNorth York(Humber Summit)',\n 'M1MScarborough(Cliffside / Cliffcrest / Scarborough Village West)',\n 'M2MNorth York(Willowdale / Newtonbrook)',\n 'M3MNorth York(Downsview)Central',\n 'M4MEast Toronto(Studio District)',\n 'M5MNorth York(Bedford Park / Lawrence Manor East)',\n 'M6MYork(Del Ray / Mount Dennis / Keelsdale and Silverthorn)',\n 'M9MNorth York(Humberlea / Emery)',\n 'M1NScarborough(Birch Cliff / Cliffside West)',\n 'M2NNorth York(Willowdale)South',\n 'M3NNorth York(Downsview)Northwest',\n 'M4NCentral Toronto(Lawrence Park)',\n 'M5NCentral Toronto(Roselawn)',\n 'M6NYork(Runnymede / The Junction North)',\n 'M9NYork(Weston)',\n 'M1PScarborough(Dorset Park / Wexford Heights / Scarborough Town Centre)',\n 'M2PNorth York(York Mills West)',\n 'M4PCentral Toronto(Davisville North)',\n 'M5PCentral Toronto(Forest Hill North & West)',\n 'M6PWest Toronto(High Park / The Junction South)',\n 'M9PEtobicoke(Westmount)',\n 'M1RScarborough(Wexford / Maryvale)',\n 'M2RNorth York(Willowdale)West',\n 'M4RCentral Toronto(North Toronto West)',\n 'M5RCentral Toronto(The Annex / North Midtown / Yorkville)',\n 'M6RWest Toronto(Parkdale / Roncesvalles)',\n 'M7RMississaugaCanada Post Gateway Processing Centre(Enclave of L4W)',\n 'M9REtobicoke(Kingsview Village / St. Phillips / Martin Grove Gardens / Richview Gardens)',\n 'M1SScarborough(Agincourt)',\n 'M4SCentral Toronto(Davisville)',\n 'M5SDowntown Toronto(University of Toronto / Harbord)',\n 'M6SWest Toronto(Runnymede / Swansea)',\n \"M1TScarborough(Clarks Corners / Tam O'Shanter / Sullivan)\",\n 'M4TCentral Toronto(Moore Park / Summerhill East)',\n 'M5TDowntown Toronto(Kensington Market / Chinatown / Grange Park)',\n \"M1VScarborough(Milliken / Agincourt North / Steeles East / L'Amoreaux East)\",\n 'M4VCentral Toronto(Summerhill West / Rathnelly / South Hill / Forest Hill SE / Deer Park)',\n 'M5VDowntown Toronto(CN Tower / King and Spadina / Railway Lands / Harbourfront West / Bathurst Quay / South Niagara / Island airport)',\n 'M8VEtobicoke(New Toronto / Mimico South / Humber Bay Shores)',\n 'M9VEtobicoke(South Steeles / Silverstone / Humbergate / Jamestown / Mount Olive / Beaumond Heights / Thistletown / Albion Gardens)',\n \"M1WScarborough(Steeles West / L'Amoreaux West)\",\n 'M4WDowntown Toronto(Rosedale)',\n 'M5WDowntown TorontoStn A PO Boxes25 The Esplanade(Enclave of M5E)',\n 'M8WEtobicoke(Alderwood / Long Branch)',\n 'M9WEtobicokeNorthwest(Clairville / Humberwood / Woodbine Downs / West Humber / Kipling Heights / Rexdale / Elms / Tandridge / Old Rexdale)',\n 'M1XScarborough(Upper Rouge)',\n 'M4XDowntown Toronto(St. James Town / Cabbagetown)',\n 'M5XDowntown Toronto(First Canadian Place / Underground city)',\n 'M8XEtobicoke(The Kingsway / Montgomery Road / Old Mill North)',\n 'M4YDowntown Toronto(Church and Wellesley)',\n 'M7YEast TorontoBusiness reply mail Processing Centre969 Eastern(Enclave of M4L)',\n \"M8YEtobicoke(Old Mill South / King's Mill Park / Sunnylea / Humber Bay / Mimico NE / The Queensway East / Royal York South East / Kingsway Park South East)\",\n 'M8ZEtobicoke(Mimico NW / The Queensway West / South of Bloor / Kingsway Park South West / Royal York South West)']"
                    }, 
                    "output_type": "execute_result"
                }
            ], 
            "source": "# creat a new list without \"Not assigned\" values\nnewlist = [s for s in list if 'Not assigned' not in s]\nnewlist"
        }, 
        {
            "source": "1\u00b0) You build an empty dataframe wtih the 3 columns 'PostalCode', 'Borough', 'Neighborhood'\n\n2\u00b0)You loop through the list (103 times) with a counter i for example, you increment i each time\n\n3\u00b0) in every execution of the loop, you fill a new row in the dataframe.. using string parsing\n\nlook for string slicing\n\nvalue of the 1st column is indexes 0 through 2\n\nvalue for column 2 is the substring from index 3 to the index of the first (", 
            "cell_type": "markdown", 
            "metadata": {}
        }, 
        {
            "execution_count": 80, 
            "cell_type": "code", 
            "metadata": {}, 
            "outputs": [
                {
                    "execution_count": 80, 
                    "metadata": {}, 
                    "data": {
                        "text/plain": "103"
                    }, 
                    "output_type": "execute_result"
                }
            ], 
            "source": "len(newlist)"
        }, 
        {
            "execution_count": 96, 
            "cell_type": "code", 
            "metadata": {}, 
            "outputs": [
                {
                    "output_type": "stream", 
                    "name": "stdout", 
                    "text": "M3A\n"
                }
            ], 
            "source": "print(newlist[0][0:3]) # so here i can replace the [0] with [i]"
        }, 
        {
            "execution_count": 98, 
            "cell_type": "code", 
            "metadata": {}, 
            "outputs": [
                {
                    "output_type": "stream", 
                    "name": "stdout", 
                    "text": "North York(Parkwoods)\n"
                }
            ], 
            "source": "print(newlist[0][3:])"
        }, 
        {
            "execution_count": 18, 
            "cell_type": "code", 
            "metadata": {}, 
            "outputs": [
                {
                    "execution_count": 18, 
                    "metadata": {}, 
                    "data": {
                        "text/plain": "'North York(Parkwoods)'"
                    }, 
                    "output_type": "execute_result"
                }
            ], 
            "source": "col2_strt = newlist[0][3:]\ncol2_strt"
        }, 
        {
            "execution_count": 43, 
            "cell_type": "code", 
            "metadata": {}, 
            "outputs": [
                {
                    "execution_count": 43, 
                    "metadata": {}, 
                    "data": {
                        "text/plain": "13"
                    }, 
                    "output_type": "execute_result"
                }
            ], 
            "source": "col2_fin = newlist[0].find('(')\ncol2_fin"
        }, 
        {
            "execution_count": 68, 
            "cell_type": "code", 
            "metadata": {}, 
            "outputs": [
                {
                    "execution_count": 68, 
                    "metadata": {}, 
                    "data": {
                        "text/plain": "'M5ADowntown Toronto(Regent Park , Harbourfront)'"
                    }, 
                    "output_type": "execute_result"
                }
            ], 
            "source": "# now i need to replace all / with , \ntest = newlist[2].replace('/',',')\ntest"
        }, 
        {
            "execution_count": 167, 
            "cell_type": "code", 
            "metadata": {}, 
            "outputs": [
                {
                    "execution_count": 167, 
                    "metadata": {}, 
                    "data": {
                        "text/html": "<div>\n<style scoped>\n    .dataframe tbody tr th:only-of-type {\n        vertical-align: middle;\n    }\n\n    .dataframe tbody tr th {\n        vertical-align: top;\n    }\n\n    .dataframe thead th {\n        text-align: right;\n    }\n</style>\n<table border=\"1\" class=\"dataframe\">\n  <thead>\n    <tr style=\"text-align: right;\">\n      <th></th>\n      <th>Postalcode</th>\n      <th>Borough</th>\n      <th>Neighborhood</th>\n    </tr>\n  </thead>\n  <tbody>\n  </tbody>\n</table>\n</div>", 
                        "text/plain": "Empty DataFrame\nColumns: [Postalcode, Borough, Neighborhood]\nIndex: []"
                    }, 
                    "output_type": "execute_result"
                }
            ], 
            "source": "# define data frame columns\ncolumn_names = ['Postalcode', 'Borough', 'Neighborhood']\n\nToronto = pd.DataFrame(columns=column_names)\nToronto"
        }, 
        {
            "execution_count": 168, 
            "cell_type": "code", 
            "metadata": {}, 
            "outputs": [], 
            "source": "# value of the 1st column is indexes 0 through 2 the first 3 characters are the PostalCode\n# the string from index 3 all the way to first (, is the Borough column \n# value for column 2 is the substring from index 3 to the index of the first (\n# and the substring inside the (...) is the neighborhood\n\nn = len(newlist)\ni = 0\nfor i in range(n):\n    col_postalcode = newlist[i][0:3]    \n    col2_temp = newlist[i].find('(')\n    col_borough = newlist[i][3:col2_temp] \n    col_neighborhood = newlist[i][col2_temp+1:].replace('/',',').strip(')')\n    \n    #print(col_postalcode)\n    #print(col_borough)\n    #print(col_neighborhood)\n    #print()\n    \n    \n    #Toronto.loc[i] = [col_postalcode, col_borough, col_neighborhood]\n    \n    Toronto = Toronto.append({'Postalcode': col_postalcode,\n                                          'Borough': col_borough,\n                                          'Neighborhood': col_neighborhood} ,ignore_index=True)\n                                           \n\n\n"
        }, 
        {
            "execution_count": 156, 
            "cell_type": "code", 
            "metadata": {}, 
            "outputs": [
                {
                    "execution_count": 156, 
                    "metadata": {}, 
                    "data": {
                        "text/html": "<div>\n<style scoped>\n    .dataframe tbody tr th:only-of-type {\n        vertical-align: middle;\n    }\n\n    .dataframe tbody tr th {\n        vertical-align: top;\n    }\n\n    .dataframe thead th {\n        text-align: right;\n    }\n</style>\n<table border=\"1\" class=\"dataframe\">\n  <thead>\n    <tr style=\"text-align: right;\">\n      <th></th>\n      <th>Postalcode</th>\n      <th>Borough</th>\n      <th>Neighborhood</th>\n    </tr>\n  </thead>\n  <tbody>\n    <tr>\n      <th>0</th>\n      <td>M3A</td>\n      <td>North York</td>\n      <td>Parkwoods</td>\n    </tr>\n    <tr>\n      <th>1</th>\n      <td>M4A</td>\n      <td>North York</td>\n      <td>Victoria Village</td>\n    </tr>\n    <tr>\n      <th>2</th>\n      <td>M5A</td>\n      <td>Downtown Toronto</td>\n      <td>Regent Park , Harbourfront</td>\n    </tr>\n    <tr>\n      <th>3</th>\n      <td>M6A</td>\n      <td>North York</td>\n      <td>Lawrence Manor , Lawrence Heights</td>\n    </tr>\n    <tr>\n      <th>4</th>\n      <td>M7A</td>\n      <td>Queen's Park</td>\n      <td>Queen's Park</td>\n    </tr>\n    <tr>\n      <th>5</th>\n      <td>M9A</td>\n      <td>Etobicoke</td>\n      <td>Islington Avenue</td>\n    </tr>\n    <tr>\n      <th>6</th>\n      <td>M1B</td>\n      <td>Scarborough</td>\n      <td>Malvern , Rouge</td>\n    </tr>\n    <tr>\n      <th>7</th>\n      <td>M3B</td>\n      <td>North York</td>\n      <td>(Don Mills) North</td>\n    </tr>\n    <tr>\n      <th>8</th>\n      <td>M4B</td>\n      <td>East York</td>\n      <td>Parkview Hill , Woodbine Gardens</td>\n    </tr>\n    <tr>\n      <th>9</th>\n      <td>M5B</td>\n      <td>Downtown Toronto</td>\n      <td>Garden District, Ryerson</td>\n    </tr>\n  </tbody>\n</table>\n</div>", 
                        "text/plain": "  Postalcode           Borough                       Neighborhood\n0        M3A        North York                          Parkwoods\n1        M4A        North York                   Victoria Village\n2        M5A  Downtown Toronto         Regent Park , Harbourfront\n3        M6A        North York  Lawrence Manor , Lawrence Heights\n4        M7A      Queen's Park                       Queen's Park\n5        M9A         Etobicoke                   Islington Avenue\n6        M1B       Scarborough                    Malvern , Rouge\n7        M3B        North York                  (Don Mills) North\n8        M4B         East York   Parkview Hill , Woodbine Gardens\n9        M5B  Downtown Toronto           Garden District, Ryerson"
                    }, 
                    "output_type": "execute_result"
                }
            ], 
            "source": "Toronto.head(10)"
        }, 
        {
            "execution_count": 173, 
            "cell_type": "code", 
            "metadata": {}, 
            "outputs": [], 
            "source": "# Fixing the dataframe \nToronto.loc[4][1] = Toronto.loc[4][2] = \"Queen's Park\"\nToronto.loc[7][2] = \"Don Mills North\"\nToronto.loc[13][2] = \"Don Mills South (Flemingdon Park)\"\nToronto.loc[40][2] = \"Downsview East (CFB Toronto)\"\nToronto.loc[46][2] = \"Downsview West\"\nToronto.loc[53][2] = \"Downsview Central\"\nToronto.loc[59][2] = \"Willowdale South\"\nToronto.loc[60][2] = \"Downsview Northwest\"\nToronto.loc[72][2] = \"Willowdale West\"\n"
        }, 
        {
            "execution_count": 174, 
            "cell_type": "code", 
            "metadata": {}, 
            "outputs": [
                {
                    "execution_count": 174, 
                    "metadata": {}, 
                    "data": {
                        "text/html": "<div>\n<style scoped>\n    .dataframe tbody tr th:only-of-type {\n        vertical-align: middle;\n    }\n\n    .dataframe tbody tr th {\n        vertical-align: top;\n    }\n\n    .dataframe thead th {\n        text-align: right;\n    }\n</style>\n<table border=\"1\" class=\"dataframe\">\n  <thead>\n    <tr style=\"text-align: right;\">\n      <th></th>\n      <th>Postalcode</th>\n      <th>Borough</th>\n      <th>Neighborhood</th>\n    </tr>\n  </thead>\n  <tbody>\n    <tr>\n      <th>0</th>\n      <td>M3A</td>\n      <td>North York</td>\n      <td>Parkwoods</td>\n    </tr>\n    <tr>\n      <th>1</th>\n      <td>M4A</td>\n      <td>North York</td>\n      <td>Victoria Village</td>\n    </tr>\n    <tr>\n      <th>2</th>\n      <td>M5A</td>\n      <td>Downtown Toronto</td>\n      <td>Regent Park , Harbourfront</td>\n    </tr>\n    <tr>\n      <th>3</th>\n      <td>M6A</td>\n      <td>North York</td>\n      <td>Lawrence Manor , Lawrence Heights</td>\n    </tr>\n    <tr>\n      <th>4</th>\n      <td>M7A</td>\n      <td>Queen's Park</td>\n      <td>Queen's Park</td>\n    </tr>\n    <tr>\n      <th>5</th>\n      <td>M9A</td>\n      <td>Etobicoke</td>\n      <td>Islington Avenue</td>\n    </tr>\n    <tr>\n      <th>6</th>\n      <td>M1B</td>\n      <td>Scarborough</td>\n      <td>Malvern , Rouge</td>\n    </tr>\n    <tr>\n      <th>7</th>\n      <td>M3B</td>\n      <td>North York</td>\n      <td>Don Mills North</td>\n    </tr>\n    <tr>\n      <th>8</th>\n      <td>M4B</td>\n      <td>East York</td>\n      <td>Parkview Hill , Woodbine Gardens</td>\n    </tr>\n    <tr>\n      <th>9</th>\n      <td>M5B</td>\n      <td>Downtown Toronto</td>\n      <td>Garden District, Ryerson</td>\n    </tr>\n    <tr>\n      <th>10</th>\n      <td>M6B</td>\n      <td>North York</td>\n      <td>Glencairn</td>\n    </tr>\n    <tr>\n      <th>11</th>\n      <td>M9B</td>\n      <td>Etobicoke</td>\n      <td>West Deane Park , Princess Gardens , Martin Gr...</td>\n    </tr>\n    <tr>\n      <th>12</th>\n      <td>M1C</td>\n      <td>Scarborough</td>\n      <td>Rouge Hill , Port Union , Highland Creek</td>\n    </tr>\n    <tr>\n      <th>13</th>\n      <td>M3C</td>\n      <td>North York</td>\n      <td>Don Mills South (Flemingdon Park)</td>\n    </tr>\n    <tr>\n      <th>14</th>\n      <td>M4C</td>\n      <td>East York</td>\n      <td>Woodbine Heights</td>\n    </tr>\n    <tr>\n      <th>15</th>\n      <td>M5C</td>\n      <td>Downtown Toronto</td>\n      <td>St. James Town</td>\n    </tr>\n    <tr>\n      <th>16</th>\n      <td>M6C</td>\n      <td>York</td>\n      <td>Humewood-Cedarvale</td>\n    </tr>\n    <tr>\n      <th>17</th>\n      <td>M9C</td>\n      <td>Etobicoke</td>\n      <td>Eringate , Bloordale Gardens , Old Burnhamthor...</td>\n    </tr>\n    <tr>\n      <th>18</th>\n      <td>M1E</td>\n      <td>Scarborough</td>\n      <td>Guildwood , Morningside , West Hill</td>\n    </tr>\n    <tr>\n      <th>19</th>\n      <td>M4E</td>\n      <td>East Toronto</td>\n      <td>The Beaches</td>\n    </tr>\n    <tr>\n      <th>20</th>\n      <td>M5E</td>\n      <td>Downtown Toronto</td>\n      <td>Berczy Park</td>\n    </tr>\n    <tr>\n      <th>21</th>\n      <td>M6E</td>\n      <td>York</td>\n      <td>Caledonia-Fairbanks</td>\n    </tr>\n    <tr>\n      <th>22</th>\n      <td>M1G</td>\n      <td>Scarborough</td>\n      <td>Woburn</td>\n    </tr>\n    <tr>\n      <th>23</th>\n      <td>M4G</td>\n      <td>East York</td>\n      <td>Leaside</td>\n    </tr>\n    <tr>\n      <th>24</th>\n      <td>M5G</td>\n      <td>Downtown Toronto</td>\n      <td>Central Bay Street</td>\n    </tr>\n    <tr>\n      <th>25</th>\n      <td>M6G</td>\n      <td>Downtown Toronto</td>\n      <td>Christie</td>\n    </tr>\n    <tr>\n      <th>26</th>\n      <td>M1H</td>\n      <td>Scarborough</td>\n      <td>Cedarbrae</td>\n    </tr>\n    <tr>\n      <th>27</th>\n      <td>M2H</td>\n      <td>North York</td>\n      <td>Hillcrest Village</td>\n    </tr>\n    <tr>\n      <th>28</th>\n      <td>M3H</td>\n      <td>North York</td>\n      <td>Bathurst Manor , Wilson Heights , Downsview North</td>\n    </tr>\n    <tr>\n      <th>29</th>\n      <td>M4H</td>\n      <td>East York</td>\n      <td>Thorncliffe Park</td>\n    </tr>\n    <tr>\n      <th>30</th>\n      <td>M5H</td>\n      <td>Downtown Toronto</td>\n      <td>Richmond , Adelaide , King</td>\n    </tr>\n    <tr>\n      <th>31</th>\n      <td>M6H</td>\n      <td>West Toronto</td>\n      <td>Dufferin , Dovercourt Village</td>\n    </tr>\n    <tr>\n      <th>32</th>\n      <td>M1J</td>\n      <td>Scarborough</td>\n      <td>Scarborough Village</td>\n    </tr>\n    <tr>\n      <th>33</th>\n      <td>M2J</td>\n      <td>North York</td>\n      <td>Fairview , Henry Farm , Oriole</td>\n    </tr>\n    <tr>\n      <th>34</th>\n      <td>M3J</td>\n      <td>North York</td>\n      <td>Northwood Park , York University</td>\n    </tr>\n    <tr>\n      <th>35</th>\n      <td>M4J</td>\n      <td>East YorkEast Toronto</td>\n      <td>The Danforth East</td>\n    </tr>\n    <tr>\n      <th>36</th>\n      <td>M5J</td>\n      <td>Downtown Toronto</td>\n      <td>Harbourfront East , Union Station , Toronto Is...</td>\n    </tr>\n    <tr>\n      <th>37</th>\n      <td>M6J</td>\n      <td>West Toronto</td>\n      <td>Little Portugal , Trinity</td>\n    </tr>\n    <tr>\n      <th>38</th>\n      <td>M1K</td>\n      <td>Scarborough</td>\n      <td>Kennedy Park , Ionview , East Birchmount Park</td>\n    </tr>\n    <tr>\n      <th>39</th>\n      <td>M2K</td>\n      <td>North York</td>\n      <td>Bayview Village</td>\n    </tr>\n    <tr>\n      <th>40</th>\n      <td>M3K</td>\n      <td>North York</td>\n      <td>Downsview East (CFB Toronto)</td>\n    </tr>\n    <tr>\n      <th>41</th>\n      <td>M4K</td>\n      <td>East Toronto</td>\n      <td>The Danforth West , Riverdale</td>\n    </tr>\n    <tr>\n      <th>42</th>\n      <td>M5K</td>\n      <td>Downtown Toronto</td>\n      <td>Toronto Dominion Centre , Design Exchange</td>\n    </tr>\n    <tr>\n      <th>43</th>\n      <td>M6K</td>\n      <td>West Toronto</td>\n      <td>Brockton , Parkdale Village , Exhibition Place</td>\n    </tr>\n    <tr>\n      <th>44</th>\n      <td>M1L</td>\n      <td>Scarborough</td>\n      <td>Golden Mile , Clairlea , Oakridge</td>\n    </tr>\n    <tr>\n      <th>45</th>\n      <td>M2L</td>\n      <td>North York</td>\n      <td>York Mills , Silver Hills</td>\n    </tr>\n    <tr>\n      <th>46</th>\n      <td>M3L</td>\n      <td>North York</td>\n      <td>Downsview West</td>\n    </tr>\n    <tr>\n      <th>47</th>\n      <td>M4L</td>\n      <td>East Toronto</td>\n      <td>India Bazaar , The Beaches West</td>\n    </tr>\n    <tr>\n      <th>48</th>\n      <td>M5L</td>\n      <td>Downtown Toronto</td>\n      <td>Commerce Court , Victoria Hotel</td>\n    </tr>\n    <tr>\n      <th>49</th>\n      <td>M6L</td>\n      <td>North York</td>\n      <td>North Park , Maple Leaf Park , Upwood Park</td>\n    </tr>\n    <tr>\n      <th>50</th>\n      <td>M9L</td>\n      <td>North York</td>\n      <td>Humber Summit</td>\n    </tr>\n    <tr>\n      <th>51</th>\n      <td>M1M</td>\n      <td>Scarborough</td>\n      <td>Cliffside , Cliffcrest , Scarborough Village West</td>\n    </tr>\n    <tr>\n      <th>52</th>\n      <td>M2M</td>\n      <td>North York</td>\n      <td>Willowdale , Newtonbrook</td>\n    </tr>\n    <tr>\n      <th>53</th>\n      <td>M3M</td>\n      <td>North York</td>\n      <td>Downsview Central</td>\n    </tr>\n    <tr>\n      <th>54</th>\n      <td>M4M</td>\n      <td>East Toronto</td>\n      <td>Studio District</td>\n    </tr>\n    <tr>\n      <th>55</th>\n      <td>M5M</td>\n      <td>North York</td>\n      <td>Bedford Park , Lawrence Manor East</td>\n    </tr>\n    <tr>\n      <th>56</th>\n      <td>M6M</td>\n      <td>York</td>\n      <td>Del Ray , Mount Dennis , Keelsdale and Silvert...</td>\n    </tr>\n    <tr>\n      <th>57</th>\n      <td>M9M</td>\n      <td>North York</td>\n      <td>Humberlea , Emery</td>\n    </tr>\n    <tr>\n      <th>58</th>\n      <td>M1N</td>\n      <td>Scarborough</td>\n      <td>Birch Cliff , Cliffside West</td>\n    </tr>\n    <tr>\n      <th>59</th>\n      <td>M2N</td>\n      <td>North York</td>\n      <td>Willowdale South</td>\n    </tr>\n    <tr>\n      <th>60</th>\n      <td>M3N</td>\n      <td>North York</td>\n      <td>Downsview Northwest</td>\n    </tr>\n    <tr>\n      <th>61</th>\n      <td>M4N</td>\n      <td>Central Toronto</td>\n      <td>Lawrence Park</td>\n    </tr>\n    <tr>\n      <th>62</th>\n      <td>M5N</td>\n      <td>Central Toronto</td>\n      <td>Roselawn</td>\n    </tr>\n    <tr>\n      <th>63</th>\n      <td>M6N</td>\n      <td>York</td>\n      <td>Runnymede , The Junction North</td>\n    </tr>\n    <tr>\n      <th>64</th>\n      <td>M9N</td>\n      <td>York</td>\n      <td>Weston</td>\n    </tr>\n    <tr>\n      <th>65</th>\n      <td>M1P</td>\n      <td>Scarborough</td>\n      <td>Dorset Park , Wexford Heights , Scarborough To...</td>\n    </tr>\n    <tr>\n      <th>66</th>\n      <td>M2P</td>\n      <td>North York</td>\n      <td>York Mills West</td>\n    </tr>\n    <tr>\n      <th>67</th>\n      <td>M4P</td>\n      <td>Central Toronto</td>\n      <td>Davisville North</td>\n    </tr>\n    <tr>\n      <th>68</th>\n      <td>M5P</td>\n      <td>Central Toronto</td>\n      <td>Forest Hill North &amp; West</td>\n    </tr>\n    <tr>\n      <th>69</th>\n      <td>M6P</td>\n      <td>West Toronto</td>\n      <td>High Park , The Junction South</td>\n    </tr>\n    <tr>\n      <th>70</th>\n      <td>M9P</td>\n      <td>Etobicoke</td>\n      <td>Westmount</td>\n    </tr>\n    <tr>\n      <th>71</th>\n      <td>M1R</td>\n      <td>Scarborough</td>\n      <td>Wexford , Maryvale</td>\n    </tr>\n    <tr>\n      <th>72</th>\n      <td>M2R</td>\n      <td>North York</td>\n      <td>Willowdale West</td>\n    </tr>\n    <tr>\n      <th>73</th>\n      <td>M4R</td>\n      <td>Central Toronto</td>\n      <td>North Toronto West</td>\n    </tr>\n    <tr>\n      <th>74</th>\n      <td>M5R</td>\n      <td>Central Toronto</td>\n      <td>The Annex , North Midtown , Yorkville</td>\n    </tr>\n    <tr>\n      <th>75</th>\n      <td>M6R</td>\n      <td>West Toronto</td>\n      <td>Parkdale , Roncesvalles</td>\n    </tr>\n    <tr>\n      <th>76</th>\n      <td>M7R</td>\n      <td>MississaugaCanada Post Gateway Processing Centre</td>\n      <td>Enclave of L4W</td>\n    </tr>\n    <tr>\n      <th>77</th>\n      <td>M9R</td>\n      <td>Etobicoke</td>\n      <td>Kingsview Village , St. Phillips , Martin Grov...</td>\n    </tr>\n    <tr>\n      <th>78</th>\n      <td>M1S</td>\n      <td>Scarborough</td>\n      <td>Agincourt</td>\n    </tr>\n    <tr>\n      <th>79</th>\n      <td>M4S</td>\n      <td>Central Toronto</td>\n      <td>Davisville</td>\n    </tr>\n    <tr>\n      <th>80</th>\n      <td>M5S</td>\n      <td>Downtown Toronto</td>\n      <td>University of Toronto , Harbord</td>\n    </tr>\n    <tr>\n      <th>81</th>\n      <td>M6S</td>\n      <td>West Toronto</td>\n      <td>Runnymede , Swansea</td>\n    </tr>\n    <tr>\n      <th>82</th>\n      <td>M1T</td>\n      <td>Scarborough</td>\n      <td>Clarks Corners , Tam O'Shanter , Sullivan</td>\n    </tr>\n    <tr>\n      <th>83</th>\n      <td>M4T</td>\n      <td>Central Toronto</td>\n      <td>Moore Park , Summerhill East</td>\n    </tr>\n    <tr>\n      <th>84</th>\n      <td>M5T</td>\n      <td>Downtown Toronto</td>\n      <td>Kensington Market , Chinatown , Grange Park</td>\n    </tr>\n    <tr>\n      <th>85</th>\n      <td>M1V</td>\n      <td>Scarborough</td>\n      <td>Milliken , Agincourt North , Steeles East , L'...</td>\n    </tr>\n    <tr>\n      <th>86</th>\n      <td>M4V</td>\n      <td>Central Toronto</td>\n      <td>Summerhill West , Rathnelly , South Hill , For...</td>\n    </tr>\n    <tr>\n      <th>87</th>\n      <td>M5V</td>\n      <td>Downtown Toronto</td>\n      <td>CN Tower , King and Spadina , Railway Lands , ...</td>\n    </tr>\n    <tr>\n      <th>88</th>\n      <td>M8V</td>\n      <td>Etobicoke</td>\n      <td>New Toronto , Mimico South , Humber Bay Shores</td>\n    </tr>\n    <tr>\n      <th>89</th>\n      <td>M9V</td>\n      <td>Etobicoke</td>\n      <td>South Steeles , Silverstone , Humbergate , Jam...</td>\n    </tr>\n    <tr>\n      <th>90</th>\n      <td>M1W</td>\n      <td>Scarborough</td>\n      <td>Steeles West , L'Amoreaux West</td>\n    </tr>\n    <tr>\n      <th>91</th>\n      <td>M4W</td>\n      <td>Downtown Toronto</td>\n      <td>Rosedale</td>\n    </tr>\n    <tr>\n      <th>92</th>\n      <td>M5W</td>\n      <td>Downtown TorontoStn A PO Boxes25 The Esplanade</td>\n      <td>Enclave of M5E</td>\n    </tr>\n    <tr>\n      <th>93</th>\n      <td>M8W</td>\n      <td>Etobicoke</td>\n      <td>Alderwood , Long Branch</td>\n    </tr>\n    <tr>\n      <th>94</th>\n      <td>M9W</td>\n      <td>EtobicokeNorthwest</td>\n      <td>Clairville , Humberwood , Woodbine Downs , Wes...</td>\n    </tr>\n    <tr>\n      <th>95</th>\n      <td>M1X</td>\n      <td>Scarborough</td>\n      <td>Upper Rouge</td>\n    </tr>\n    <tr>\n      <th>96</th>\n      <td>M4X</td>\n      <td>Downtown Toronto</td>\n      <td>St. James Town , Cabbagetown</td>\n    </tr>\n    <tr>\n      <th>97</th>\n      <td>M5X</td>\n      <td>Downtown Toronto</td>\n      <td>First Canadian Place , Underground city</td>\n    </tr>\n    <tr>\n      <th>98</th>\n      <td>M8X</td>\n      <td>Etobicoke</td>\n      <td>The Kingsway , Montgomery Road , Old Mill North</td>\n    </tr>\n    <tr>\n      <th>99</th>\n      <td>M4Y</td>\n      <td>Downtown Toronto</td>\n      <td>Church and Wellesley</td>\n    </tr>\n    <tr>\n      <th>100</th>\n      <td>M7Y</td>\n      <td>East TorontoBusiness reply mail Processing Cen...</td>\n      <td>Enclave of M4L</td>\n    </tr>\n    <tr>\n      <th>101</th>\n      <td>M8Y</td>\n      <td>Etobicoke</td>\n      <td>Old Mill South , King's Mill Park , Sunnylea ,...</td>\n    </tr>\n    <tr>\n      <th>102</th>\n      <td>M8Z</td>\n      <td>Etobicoke</td>\n      <td>Mimico NW , The Queensway West , South of Bloo...</td>\n    </tr>\n  </tbody>\n</table>\n</div>", 
                        "text/plain": "    Postalcode                                            Borough  \\\n0          M3A                                         North York   \n1          M4A                                         North York   \n2          M5A                                   Downtown Toronto   \n3          M6A                                         North York   \n4          M7A                                       Queen's Park   \n5          M9A                                          Etobicoke   \n6          M1B                                        Scarborough   \n7          M3B                                         North York   \n8          M4B                                          East York   \n9          M5B                                   Downtown Toronto   \n10         M6B                                         North York   \n11         M9B                                          Etobicoke   \n12         M1C                                        Scarborough   \n13         M3C                                         North York   \n14         M4C                                          East York   \n15         M5C                                   Downtown Toronto   \n16         M6C                                               York   \n17         M9C                                          Etobicoke   \n18         M1E                                        Scarborough   \n19         M4E                                       East Toronto   \n20         M5E                                   Downtown Toronto   \n21         M6E                                               York   \n22         M1G                                        Scarborough   \n23         M4G                                          East York   \n24         M5G                                   Downtown Toronto   \n25         M6G                                   Downtown Toronto   \n26         M1H                                        Scarborough   \n27         M2H                                         North York   \n28         M3H                                         North York   \n29         M4H                                          East York   \n30         M5H                                   Downtown Toronto   \n31         M6H                                       West Toronto   \n32         M1J                                        Scarborough   \n33         M2J                                         North York   \n34         M3J                                         North York   \n35         M4J                              East YorkEast Toronto   \n36         M5J                                   Downtown Toronto   \n37         M6J                                       West Toronto   \n38         M1K                                        Scarborough   \n39         M2K                                         North York   \n40         M3K                                         North York   \n41         M4K                                       East Toronto   \n42         M5K                                   Downtown Toronto   \n43         M6K                                       West Toronto   \n44         M1L                                        Scarborough   \n45         M2L                                         North York   \n46         M3L                                         North York   \n47         M4L                                       East Toronto   \n48         M5L                                   Downtown Toronto   \n49         M6L                                         North York   \n50         M9L                                         North York   \n51         M1M                                        Scarborough   \n52         M2M                                         North York   \n53         M3M                                         North York   \n54         M4M                                       East Toronto   \n55         M5M                                         North York   \n56         M6M                                               York   \n57         M9M                                         North York   \n58         M1N                                        Scarborough   \n59         M2N                                         North York   \n60         M3N                                         North York   \n61         M4N                                    Central Toronto   \n62         M5N                                    Central Toronto   \n63         M6N                                               York   \n64         M9N                                               York   \n65         M1P                                        Scarborough   \n66         M2P                                         North York   \n67         M4P                                    Central Toronto   \n68         M5P                                    Central Toronto   \n69         M6P                                       West Toronto   \n70         M9P                                          Etobicoke   \n71         M1R                                        Scarborough   \n72         M2R                                         North York   \n73         M4R                                    Central Toronto   \n74         M5R                                    Central Toronto   \n75         M6R                                       West Toronto   \n76         M7R   MississaugaCanada Post Gateway Processing Centre   \n77         M9R                                          Etobicoke   \n78         M1S                                        Scarborough   \n79         M4S                                    Central Toronto   \n80         M5S                                   Downtown Toronto   \n81         M6S                                       West Toronto   \n82         M1T                                        Scarborough   \n83         M4T                                    Central Toronto   \n84         M5T                                   Downtown Toronto   \n85         M1V                                        Scarborough   \n86         M4V                                    Central Toronto   \n87         M5V                                   Downtown Toronto   \n88         M8V                                          Etobicoke   \n89         M9V                                          Etobicoke   \n90         M1W                                        Scarborough   \n91         M4W                                   Downtown Toronto   \n92         M5W     Downtown TorontoStn A PO Boxes25 The Esplanade   \n93         M8W                                          Etobicoke   \n94         M9W                                 EtobicokeNorthwest   \n95         M1X                                        Scarborough   \n96         M4X                                   Downtown Toronto   \n97         M5X                                   Downtown Toronto   \n98         M8X                                          Etobicoke   \n99         M4Y                                   Downtown Toronto   \n100        M7Y  East TorontoBusiness reply mail Processing Cen...   \n101        M8Y                                          Etobicoke   \n102        M8Z                                          Etobicoke   \n\n                                          Neighborhood  \n0                                            Parkwoods  \n1                                     Victoria Village  \n2                           Regent Park , Harbourfront  \n3                    Lawrence Manor , Lawrence Heights  \n4                                         Queen's Park  \n5                                     Islington Avenue  \n6                                      Malvern , Rouge  \n7                                      Don Mills North  \n8                     Parkview Hill , Woodbine Gardens  \n9                             Garden District, Ryerson  \n10                                           Glencairn  \n11   West Deane Park , Princess Gardens , Martin Gr...  \n12            Rouge Hill , Port Union , Highland Creek  \n13                   Don Mills South (Flemingdon Park)  \n14                                    Woodbine Heights  \n15                                      St. James Town  \n16                                  Humewood-Cedarvale  \n17   Eringate , Bloordale Gardens , Old Burnhamthor...  \n18                 Guildwood , Morningside , West Hill  \n19                                         The Beaches  \n20                                         Berczy Park  \n21                                 Caledonia-Fairbanks  \n22                                              Woburn  \n23                                             Leaside  \n24                                  Central Bay Street  \n25                                            Christie  \n26                                           Cedarbrae  \n27                                   Hillcrest Village  \n28   Bathurst Manor , Wilson Heights , Downsview North  \n29                                    Thorncliffe Park  \n30                          Richmond , Adelaide , King  \n31                       Dufferin , Dovercourt Village  \n32                                 Scarborough Village  \n33                      Fairview , Henry Farm , Oriole  \n34                    Northwood Park , York University  \n35                                   The Danforth East  \n36   Harbourfront East , Union Station , Toronto Is...  \n37                           Little Portugal , Trinity  \n38       Kennedy Park , Ionview , East Birchmount Park  \n39                                     Bayview Village  \n40                        Downsview East (CFB Toronto)  \n41                       The Danforth West , Riverdale  \n42           Toronto Dominion Centre , Design Exchange  \n43      Brockton , Parkdale Village , Exhibition Place  \n44                   Golden Mile , Clairlea , Oakridge  \n45                           York Mills , Silver Hills  \n46                                      Downsview West  \n47                     India Bazaar , The Beaches West  \n48                     Commerce Court , Victoria Hotel  \n49          North Park , Maple Leaf Park , Upwood Park  \n50                                       Humber Summit  \n51   Cliffside , Cliffcrest , Scarborough Village West  \n52                            Willowdale , Newtonbrook  \n53                                   Downsview Central  \n54                                     Studio District  \n55                  Bedford Park , Lawrence Manor East  \n56   Del Ray , Mount Dennis , Keelsdale and Silvert...  \n57                                   Humberlea , Emery  \n58                        Birch Cliff , Cliffside West  \n59                                    Willowdale South  \n60                                 Downsview Northwest  \n61                                       Lawrence Park  \n62                                            Roselawn  \n63                      Runnymede , The Junction North  \n64                                              Weston  \n65   Dorset Park , Wexford Heights , Scarborough To...  \n66                                     York Mills West  \n67                                    Davisville North  \n68                            Forest Hill North & West  \n69                      High Park , The Junction South  \n70                                           Westmount  \n71                                  Wexford , Maryvale  \n72                                     Willowdale West  \n73                                  North Toronto West  \n74               The Annex , North Midtown , Yorkville  \n75                             Parkdale , Roncesvalles  \n76                                      Enclave of L4W  \n77   Kingsview Village , St. Phillips , Martin Grov...  \n78                                           Agincourt  \n79                                          Davisville  \n80                     University of Toronto , Harbord  \n81                                 Runnymede , Swansea  \n82           Clarks Corners , Tam O'Shanter , Sullivan  \n83                        Moore Park , Summerhill East  \n84         Kensington Market , Chinatown , Grange Park  \n85   Milliken , Agincourt North , Steeles East , L'...  \n86   Summerhill West , Rathnelly , South Hill , For...  \n87   CN Tower , King and Spadina , Railway Lands , ...  \n88      New Toronto , Mimico South , Humber Bay Shores  \n89   South Steeles , Silverstone , Humbergate , Jam...  \n90                      Steeles West , L'Amoreaux West  \n91                                            Rosedale  \n92                                      Enclave of M5E  \n93                             Alderwood , Long Branch  \n94   Clairville , Humberwood , Woodbine Downs , Wes...  \n95                                         Upper Rouge  \n96                        St. James Town , Cabbagetown  \n97             First Canadian Place , Underground city  \n98     The Kingsway , Montgomery Road , Old Mill North  \n99                                Church and Wellesley  \n100                                     Enclave of M4L  \n101  Old Mill South , King's Mill Park , Sunnylea ,...  \n102  Mimico NW , The Queensway West , South of Bloo...  "
                    }, 
                    "output_type": "execute_result"
                }
            ], 
            "source": "Toronto"
        }, 
        {
            "execution_count": null, 
            "cell_type": "code", 
            "metadata": {}, 
            "outputs": [], 
            "source": "# The code was removed by Watson Studio for sharing."
        }, 
        {
            "execution_count": 188, 
            "cell_type": "code", 
            "metadata": {}, 
            "outputs": [
                {
                    "execution_count": 188, 
                    "metadata": {}, 
                    "data": {
                        "text/plain": "(103, 3)"
                    }, 
                    "output_type": "execute_result"
                }
            ], 
            "source": "Toronto.shape"
        }, 
        {
            "execution_count": null, 
            "cell_type": "code", 
            "metadata": {}, 
            "outputs": [], 
            "source": "# The code was removed by Watson Studio for sharing."
        }, 
        {
            "source": "", 
            "cell_type": "markdown", 
            "metadata": {}
        }
    ], 
    "metadata": {
        "kernelspec": {
            "display_name": "Python 3.5", 
            "name": "python3", 
            "language": "python"
        }, 
        "language_info": {
            "mimetype": "text/x-python", 
            "nbconvert_exporter": "python", 
            "version": "3.5.5", 
            "name": "python", 
            "file_extension": ".py", 
            "pygments_lexer": "ipython3", 
            "codemirror_mode": {
                "version": 3, 
                "name": "ipython"
            }
        }
    }, 
    "nbformat": 4
}